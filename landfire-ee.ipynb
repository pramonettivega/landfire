{
 "cells": [
  {
   "cell_type": "code",
   "execution_count": 1,
   "id": "c2fe58e7-5620-4f40-8a1d-d2cba324b1f6",
   "metadata": {},
   "outputs": [],
   "source": [
    "import ee\n",
    "import geemap\n",
    "import pandas as pd\n",
    "import matplotlib.cm as cm\n",
    "import matplotlib.colors as mcolors"
   ]
  },
  {
   "cell_type": "code",
   "execution_count": 2,
   "id": "25e8593f-0325-442b-96e7-23c8b92f868f",
   "metadata": {},
   "outputs": [
    {
     "data": {
      "text/html": [
       "\n",
       "            <style>\n",
       "                .geemap-dark {\n",
       "                    --jp-widgets-color: white;\n",
       "                    --jp-widgets-label-color: white;\n",
       "                    --jp-ui-font-color1: white;\n",
       "                    --jp-layout-color2: #454545;\n",
       "                    background-color: #383838;\n",
       "                }\n",
       "\n",
       "                .geemap-dark .jupyter-button {\n",
       "                    --jp-layout-color3: #383838;\n",
       "                }\n",
       "\n",
       "                .geemap-colab {\n",
       "                    background-color: var(--colab-primary-surface-color, white);\n",
       "                }\n",
       "\n",
       "                .geemap-colab .jupyter-button {\n",
       "                    --jp-layout-color3: var(--colab-primary-surface-color, white);\n",
       "                }\n",
       "            </style>\n",
       "            "
      ],
      "text/plain": [
       "<IPython.core.display.HTML object>"
      ]
     },
     "metadata": {},
     "output_type": "display_data"
    }
   ],
   "source": [
    "# Initialize the project\n",
    "ee.Authenticate()\n",
    "ee.Initialize(project='shrubwise-dc')"
   ]
  },
  {
   "cell_type": "code",
   "execution_count": 3,
   "id": "26b6f0b4-a7f9-45ed-ab13-785b3d3e21e4",
   "metadata": {},
   "outputs": [
    {
     "data": {
      "text/html": [
       "\n",
       "            <style>\n",
       "                .geemap-dark {\n",
       "                    --jp-widgets-color: white;\n",
       "                    --jp-widgets-label-color: white;\n",
       "                    --jp-ui-font-color1: white;\n",
       "                    --jp-layout-color2: #454545;\n",
       "                    background-color: #383838;\n",
       "                }\n",
       "\n",
       "                .geemap-dark .jupyter-button {\n",
       "                    --jp-layout-color3: #383838;\n",
       "                }\n",
       "\n",
       "                .geemap-colab {\n",
       "                    background-color: var(--colab-primary-surface-color, white);\n",
       "                }\n",
       "\n",
       "                .geemap-colab .jupyter-button {\n",
       "                    --jp-layout-color3: var(--colab-primary-surface-color, white);\n",
       "                }\n",
       "            </style>\n",
       "            "
      ],
      "text/plain": [
       "<IPython.core.display.HTML object>"
      ]
     },
     "metadata": {},
     "output_type": "display_data"
    },
    {
     "name": "stdout",
     "output_type": "stream",
     "text": [
      "{'type': 'ImageCollection', 'bands': [], 'version': 1742160507671454, 'id': 'projects/sat-io/open-datasets/landfire/FUEL/FBFM40', 'features': [{'type': 'Image', 'bands': [{'id': 'F40', 'data_type': {'type': 'PixelType', 'precision': 'int', 'min': -32768, 'max': 32767}, 'dimensions': [125270, 65974], 'crs': 'EPSG:3338', 'crs_transform': [30, 0, -2175045.0000000033, 0, -30, 2383724.9999999995]}], 'version': 1742160507411706, 'id': 'projects/sat-io/open-datasets/landfire/FUEL/FBFM40/F40_LA_240', 'properties': {'keywords': 'landfire, vegetation, fuels, disturbance, fire', 'references': 'https://landfire.gov/', 'project': 'LANDFIRE', 'institution': 'USGS', 'system:footprint': {'type': 'LinearRing', 'coordinates': [[172.2480478944905, 53.02311792076253], [175.5077446849606, 49.057317252748305], [-178.55701174024898, 50.775466545787616], [-172.18174675349724, 52.12022000621032], [-158.46131956967503, 53.56498448743871], [-144.35443296461304, 53.232920100768425], [-131.06150741152382, 51.1626157009008], [-126.87101048347026, 57.37390780279829], [-120.59543096042376, 63.64240174490046], [-115.51202038599438, 67.16058149723727], [-133.03904898034813, 70.30236400146792], [-145.2548632185937, 71.2605055180193], [-170.62730576057976, 70.74009438823678], [175.29637359286022, 68.86377548772492], [165.2376655608449, 66.54747518874909], [157.37341124811593, 63.91190683422242], [168.29208176327222, 56.84243618580668], [172.2480478944905, 53.02311792076253]]}, 'spatial_resolution': '30 m', 'EPSG': '5070', 'date_created': '2023-12-31', 'system:time_end': 1704002400000, 'abbreviation': 'F40', 'product_name': '40 Scott and Burgan Fire Behavior Fuel Models', 'version': '2.4.0', 'system:time_start': 1672552800000, 'license': 'public domain', 'min_value': 91, 'pyramidingPolicy': 'MODE', 'data_type': 'Thematic', 'AREA_OR_POINT': 'Area', 'creator_name': 'USFS and USGS', 'region': 'Alaska', 'system:asset_size': 577969523, 'max_value': 204, 'region_code': 'LA', 'system:index': 'F40_LA_240'}}, {'type': 'Image', 'bands': [{'id': 'F40', 'data_type': {'type': 'PixelType', 'precision': 'int', 'min': -32768, 'max': 32767}, 'dimensions': [156335, 101538], 'crs': 'EPSG:5070', 'crs_transform': [30, 0, -2362395, 0, -30, 3267405]}], 'version': 1742160507220706, 'id': 'projects/sat-io/open-datasets/landfire/FUEL/FBFM40/F40_LC_240', 'properties': {'keywords': 'landfire, vegetation, fuels, disturbance, fire', 'references': 'https://landfire.gov/', 'project': 'LANDFIRE', 'institution': 'USGS', 'system:footprint': {'type': 'LinearRing', 'coordinates': [[-82.23157563028809, 51.82925102497537], [-90.50404207344528, 52.378500200251054], [-107.17310269155041, 52.05310667344634], [-115.31780438495197, 51.18850509840564], [-128.39340587193445, 48.75008030876443], [-126.50459343388074, 44.933683778548954], [-120.28823982531698, 28.326891696313787], [-118.68580310286106, 22.42824246272832], [-109.35314787449911, 24.144438948352352], [-103.68581859856367, 24.737593445404748], [-92.226392587603, 24.958622915526334], [-80.8752056617716, 23.891096923202884], [-73.63553201134502, 22.503457900693174], [-72.05389536874793, 28.405799188409183], [-65.67905214745474, 45.523843888523515], [-64.052337839575, 48.856196240455304], [-74.16354321883428, 50.82290706521218], [-82.23157563028809, 51.82925102497537]]}, 'spatial_resolution': '30 m', 'EPSG': '5070', 'date_created': '2023-12-31', 'system:time_end': 1704002400000, 'abbreviation': 'F40', 'product_name': '40 Scott and Burgan Fire Behavior Fuel Models', 'version': '2.4.0', 'system:time_start': 1672552800000, 'license': 'public domain', 'min_value': 91, 'pyramidingPolicy': 'MODE', 'data_type': 'Thematic', 'AREA_OR_POINT': 'Area', 'creator_name': 'USFS and USGS', 'region': 'CONUS', 'system:asset_size': 2925833146, 'max_value': 204, 'region_code': 'LC', 'system:index': 'F40_LC_240'}}, {'type': 'Image', 'bands': [{'id': 'F40', 'data_type': {'type': 'PixelType', 'precision': 'int', 'min': -32768, 'max': 32767}, 'dimensions': [20385, 12600], 'crs': 'PROJCS[\"Hawaii_Albers_Equal_Area_Conic\", \\n  GEOGCS[\"NAD83\", \\n    DATUM[\"North_American_Datum_1983\", \\n      SPHEROID[\"GRS 1980\", 6378137.0, 298.257222101004, AUTHORITY[\"EPSG\",\"7019\"]], \\n      AUTHORITY[\"EPSG\",\"6269\"]], \\n    PRIMEM[\"Greenwich\", 0.0], \\n    UNIT[\"degree\", 0.017453292519943295], \\n    AXIS[\"Longitude\", EAST], \\n    AXIS[\"Latitude\", NORTH], \\n    AUTHORITY[\"EPSG\",\"4269\"]], \\n  PROJECTION[\"Albers_Conic_Equal_Area\"], \\n  PARAMETER[\"central_meridian\", -157.0], \\n  PARAMETER[\"latitude_of_origin\", 13.0], \\n  PARAMETER[\"standard_parallel_1\", 8.0], \\n  PARAMETER[\"false_easting\", 0.0], \\n  PARAMETER[\"false_northing\", 0.0], \\n  PARAMETER[\"standard_parallel_2\", 18.0], \\n  UNIT[\"m\", 1.0], \\n  AXIS[\"Easting\", EAST], \\n  AXIS[\"Northing\", NORTH]]', 'crs_transform': [30, 0, -375135, 0, -30, 1028223]}], 'version': 1742160507671454, 'id': 'projects/sat-io/open-datasets/landfire/FUEL/FBFM40/F40_LH_240', 'properties': {'keywords': 'landfire, vegetation, fuels, disturbance, fire', 'references': 'https://landfire.gov/', 'project': 'LANDFIRE', 'institution': 'USGS', 'system:footprint': {'type': 'LinearRing', 'coordinates': [[-158.0338937056449, 22.29419566281284], [-159.50307495867622, 22.284552556037426], [-160.6051493298041, 22.27205966308832], [-160.57971650888197, 20.55270577012057], [-160.55464025028272, 18.84006313284377], [-160.0111366150529, 18.846648559089154], [-159.28689402994712, 18.853813899136778], [-158.56261473963227, 18.859020318443516], [-157.65721092881762, 18.862641686582755], [-156.7518320698927, 18.86346474784455], [-156.02751579047452, 18.861813879168647], [-155.30321508156308, 18.85820363910352], [-154.75967913626042, 18.854286383074953], [-154.74387306455344, 20.567078454272963], [-154.72784224250734, 22.286598697607232], [-155.83002394567845, 22.29363914693173], [-157.2992713296982, 22.29601304227129], [-158.0338937056449, 22.29419566281284]]}, 'spatial_resolution': '30 m', 'EPSG': '5070', 'date_created': '2023-12-31', 'system:time_end': 1704002400000, 'abbreviation': 'F40', 'product_name': '40 Scott and Burgan Fire Behavior Fuel Models', 'version': '2.4.0', 'system:time_start': 1672552800000, 'license': 'public domain', 'min_value': 91, 'pyramidingPolicy': 'MODE', 'data_type': 'Thematic', 'AREA_OR_POINT': 'Area', 'creator_name': 'USFS and USGS', 'region': 'Hawaii', 'system:asset_size': 5736499, 'max_value': 204, 'region_code': 'LH', 'system:index': 'F40_LH_240'}}, {'type': 'Image', 'bands': [{'id': 'F40', 'data_type': {'type': 'PixelType', 'precision': 'int', 'min': -32768, 'max': 32767}, 'dimensions': [12846, 6768], 'crs': 'EPSG:5070', 'crs_transform': [30, 0, 3026925.0000000037, 0, -30, 83085.00000000186]}], 'version': 1742160506989625, 'id': 'projects/sat-io/open-datasets/landfire/FUEL/FBFM40/F40_LV_240', 'properties': {'keywords': 'landfire, vegetation, fuels, disturbance, fire', 'references': 'https://landfire.gov/', 'project': 'LANDFIRE', 'institution': 'USGS', 'system:footprint': {'type': 'LinearRing', 'coordinates': [[-66.91330379958683, 19.322352955138065], [-67.33661816883888, 19.456921289440093], [-67.65543696766524, 19.55660637398501], [-67.82749313229495, 18.987678782085375], [-68.02925905996078, 18.306964883242948], [-68.1959888150545, 17.736593697521883], [-67.36248076384408, 17.471081123778923], [-66.5339410266909, 17.197792140481525], [-65.71000428569471, 16.91661267849253], [-64.8904751357567, 16.627470546019378], [-64.59544937320192, 17.53431003580386], [-64.29490069089218, 18.436571798643822], [-64.8147862052071, 18.619757717237984], [-65.23204519947618, 18.764230426809156], [-65.65053740557036, 18.90673035934691], [-66.07025205330352, 19.047253406355278], [-66.49117791292167, 19.185795661058386], [-66.91330379958683, 19.322352955138065]]}, 'spatial_resolution': '30 m', 'EPSG': '5070', 'date_created': '2023-12-31', 'system:time_end': 1704002400000, 'abbreviation': 'F40', 'product_name': '40 Scott and Burgan Fire Behavior Fuel Models', 'version': '2.4.0', 'system:time_start': 1672552800000, 'license': 'public domain', 'min_value': 91, 'pyramidingPolicy': 'MODE', 'data_type': 'Thematic', 'AREA_OR_POINT': 'Area', 'creator_name': 'USFS and USGS', 'region': 'PRVI', 'system:asset_size': 4363039, 'max_value': 204, 'region_code': 'LV', 'system:index': 'F40_LV_240'}}]}\n"
     ]
    }
   ],
   "source": [
    "fbfm40 = ee.ImageCollection(\"projects/sat-io/open-datasets/landfire/FUEL/FBFM40\")\n",
    "print(fbfm40.getInfo())"
   ]
  },
  {
   "cell_type": "code",
   "execution_count": 4,
   "id": "17714b39-4263-4751-9810-91e980adfc7e",
   "metadata": {},
   "outputs": [
    {
     "data": {
      "text/html": [
       "\n",
       "            <style>\n",
       "                .geemap-dark {\n",
       "                    --jp-widgets-color: white;\n",
       "                    --jp-widgets-label-color: white;\n",
       "                    --jp-ui-font-color1: white;\n",
       "                    --jp-layout-color2: #454545;\n",
       "                    background-color: #383838;\n",
       "                }\n",
       "\n",
       "                .geemap-dark .jupyter-button {\n",
       "                    --jp-layout-color3: #383838;\n",
       "                }\n",
       "\n",
       "                .geemap-colab {\n",
       "                    background-color: var(--colab-primary-surface-color, white);\n",
       "                }\n",
       "\n",
       "                .geemap-colab .jupyter-button {\n",
       "                    --jp-layout-color3: var(--colab-primary-surface-color, white);\n",
       "                }\n",
       "            </style>\n",
       "            "
      ],
      "text/plain": [
       "<IPython.core.display.HTML object>"
      ]
     },
     "metadata": {},
     "output_type": "display_data"
    },
    {
     "name": "stdout",
     "output_type": "stream",
     "text": [
      "Total images: 4\n"
     ]
    }
   ],
   "source": [
    "print(\"Total images:\", fbfm40.size().getInfo())"
   ]
  },
  {
   "cell_type": "code",
   "execution_count": 5,
   "id": "31fb931f-6367-48f4-a890-e6910a8f1fe0",
   "metadata": {},
   "outputs": [
    {
     "data": {
      "text/html": [
       "\n",
       "            <style>\n",
       "                .geemap-dark {\n",
       "                    --jp-widgets-color: white;\n",
       "                    --jp-widgets-label-color: white;\n",
       "                    --jp-ui-font-color1: white;\n",
       "                    --jp-layout-color2: #454545;\n",
       "                    background-color: #383838;\n",
       "                }\n",
       "\n",
       "                .geemap-dark .jupyter-button {\n",
       "                    --jp-layout-color3: #383838;\n",
       "                }\n",
       "\n",
       "                .geemap-colab {\n",
       "                    background-color: var(--colab-primary-surface-color, white);\n",
       "                }\n",
       "\n",
       "                .geemap-colab .jupyter-button {\n",
       "                    --jp-layout-color3: var(--colab-primary-surface-color, white);\n",
       "                }\n",
       "            </style>\n",
       "            "
      ],
      "text/plain": [
       "<IPython.core.display.HTML object>"
      ]
     },
     "metadata": {},
     "output_type": "display_data"
    },
    {
     "name": "stderr",
     "output_type": "stream",
     "text": [
      "C:\\Users\\Pedro\\AppData\\Local\\Temp\\ipykernel_22732\\2900019165.py:9: MatplotlibDeprecationWarning: The get_cmap function was deprecated in Matplotlib 3.7 and will be removed in 3.11. Use ``matplotlib.colormaps[name]`` or ``matplotlib.colormaps.get_cmap()`` or ``pyplot.get_cmap()`` instead.\n",
      "  cmap = cm.get_cmap(\"tab20\", n)\n"
     ]
    }
   ],
   "source": [
    "# Reading Labels\n",
    "df = pd.read_csv(\"./LF2024_FBFM40_250_CONUS/CSV_Data/LF24_F40_250.csv\")\n",
    "\n",
    "labels_by_value = {int(r[\"VALUE\"]): str(r[\"FBFM40\"]) for _, r in df.iterrows()}\n",
    "classes = sorted(labels_by_value.keys())\n",
    "n = len(classes)\n",
    "\n",
    "# Generate distinct colors (categorical colormap)\n",
    "cmap = cm.get_cmap(\"tab20\", n)   \n",
    "palette = [mcolors.rgb2hex(cmap(i)) for i in range(n)]\n",
    "\n",
    "vis_params = {\n",
    "    \"min\": 0,\n",
    "    \"max\": n - 1,\n",
    "    \"palette\": palette\n",
    "}\n",
    "\n",
    "legend_dict = {\n",
    "    f\"{classes[i]} - {labels_by_value[classes[i]]}\": palette[i]\n",
    "    for i in range(n)\n",
    "}"
   ]
  },
  {
   "cell_type": "code",
   "execution_count": 6,
   "id": "49dc1a27-ef6e-46d5-9e55-c9c97c850378",
   "metadata": {},
   "outputs": [
    {
     "data": {
      "text/html": [
       "\n",
       "            <style>\n",
       "                .geemap-dark {\n",
       "                    --jp-widgets-color: white;\n",
       "                    --jp-widgets-label-color: white;\n",
       "                    --jp-ui-font-color1: white;\n",
       "                    --jp-layout-color2: #454545;\n",
       "                    background-color: #383838;\n",
       "                }\n",
       "\n",
       "                .geemap-dark .jupyter-button {\n",
       "                    --jp-layout-color3: #383838;\n",
       "                }\n",
       "\n",
       "                .geemap-colab {\n",
       "                    background-color: var(--colab-primary-surface-color, white);\n",
       "                }\n",
       "\n",
       "                .geemap-colab .jupyter-button {\n",
       "                    --jp-layout-color3: var(--colab-primary-surface-color, white);\n",
       "                }\n",
       "            </style>\n",
       "            "
      ],
      "text/plain": [
       "<IPython.core.display.HTML object>"
      ]
     },
     "metadata": {},
     "output_type": "display_data"
    },
    {
     "data": {
      "application/vnd.jupyter.widget-view+json": {
       "model_id": "749992466b704abab520e30875f5dd76",
       "version_major": 2,
       "version_minor": 0
      },
      "text/plain": [
       "Map(center=[37.5, -120], controls=(WidgetControl(options=['position', 'transparent_bg'], position='topright', …"
      ]
     },
     "execution_count": 6,
     "metadata": {},
     "output_type": "execute_result"
    }
   ],
   "source": [
    "conus = fbfm40.filter(ee.Filter.eq(\"system:index\", \"F40_LC_240\")).first()\n",
    "remapped = conus.select(\"F40\").remap(classes, list(range(n))).rename(\"FBFM40_idx\")\n",
    "\n",
    "# Visualize\n",
    "Map = geemap.Map(center=[37.5, -120], zoom=6)\n",
    "Map.addLayer(remapped, vis_params, \"FBFM40\")\n",
    "\n",
    "# Add legend\n",
    "Map.add_legend(title=\"FBFM40 Fuel Models\", legend_dict=legend_dict)\n",
    "Map"
   ]
  },
  {
   "cell_type": "code",
   "execution_count": null,
   "id": "4cc4092c-1233-484e-b5bb-5864904086bf",
   "metadata": {},
   "outputs": [],
   "source": []
  }
 ],
 "metadata": {
  "kernelspec": {
   "display_name": "LANDFIRE",
   "language": "python",
   "name": "landfire"
  },
  "language_info": {
   "codemirror_mode": {
    "name": "ipython",
    "version": 3
   },
   "file_extension": ".py",
   "mimetype": "text/x-python",
   "name": "python",
   "nbconvert_exporter": "python",
   "pygments_lexer": "ipython3",
   "version": "3.13.2"
  }
 },
 "nbformat": 4,
 "nbformat_minor": 5
}
